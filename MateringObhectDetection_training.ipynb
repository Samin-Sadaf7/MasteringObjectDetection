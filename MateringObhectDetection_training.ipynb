{
  "nbformat": 4,
  "nbformat_minor": 0,
  "metadata": {
    "colab": {
      "provenance": [],
      "gpuType": "T4",
      "authorship_tag": "ABX9TyNuEUTE+S4oFN/eHwcYaa7N",
      "include_colab_link": true
    },
    "kernelspec": {
      "name": "python3",
      "display_name": "Python 3"
    },
    "language_info": {
      "name": "python"
    },
    "accelerator": "GPU"
  },
  "cells": [
    {
      "cell_type": "markdown",
      "metadata": {
        "id": "view-in-github",
        "colab_type": "text"
      },
      "source": [
        "<a href=\"https://colab.research.google.com/github/Samin-Sadaf7/MasteringObjectDetection/blob/main/MateringObhectDetection_training.ipynb\" target=\"_parent\"><img src=\"https://colab.research.google.com/assets/colab-badge.svg\" alt=\"Open In Colab\"/></a>"
      ]
    },
    {
      "cell_type": "markdown",
      "source": [
        "#Bird Mulitple object Detection using FasterRCNN and Tensorflow Object Detection API\n",
        "\n",
        "Part -2 : training"
      ],
      "metadata": {
        "id": "bkX2t4mG8Iab"
      }
    },
    {
      "cell_type": "markdown",
      "source": [
        "### Download model from tensorflow 2 model garden"
      ],
      "metadata": {
        "id": "Tnmi-9TX8hwa"
      }
    },
    {
      "cell_type": "code",
      "source": [
        "import os\n",
        "import re #regular expression\n",
        "import tensorflow as tf\n",
        "from google.colab import drive\n",
        "#Mounting to Google Drive\n",
        "drive.mount('/content/gdrive', force_remount=True)\n",
        "#Set current directory to MyDrive , put the downloaded files there\n",
        "%cd gdrive/MyDrive/\n",
        "# Get current working dir\n",
        "current_dir= os.getcwd()\n",
        "print(\"Root dir:\", current_dir)"
      ],
      "metadata": {
        "colab": {
          "base_uri": "https://localhost:8080/"
        },
        "id": "OIYHZgR28qD1",
        "outputId": "93195ae2-f625-4c4e-d9ad-22eea2b8f8e3"
      },
      "execution_count": 2,
      "outputs": [
        {
          "output_type": "stream",
          "name": "stdout",
          "text": [
            "Mounted at /content/gdrive\n",
            "/content/gdrive/MyDrive\n",
            "Root dir: /content/gdrive/MyDrive\n"
          ]
        }
      ]
    },
    {
      "cell_type": "code",
      "source": [
        "#Define some constants\n",
        "RANDOM_SEED = 99\n",
        "BATCH_SIZE = 1\n",
        "NUM_STEPS = 2100\n",
        "NUM_EVAL_STEPS = 1000"
      ],
      "metadata": {
        "id": "0xhhSvDm84ud"
      },
      "execution_count": 3,
      "outputs": []
    },
    {
      "cell_type": "code",
      "source": [
        "# Check if the directory exists\n",
        "if not os.path.isdir('faster_rcnn_resnet101_v1_640x640_coco17_tpu-8'):\n",
        "    # Download the model\n",
        "    !wget http://download.tensorflow.org/models/object_detection/tf2/20200711/faster_rcnn_resnet101_v1_640x640_coco17_tpu-8.tar.gz\n",
        "    # Extract the compressed file\n",
        "    !tar -xf faster_rcnn_resnet101_v1_640x640_coco17_tpu-8.tar.gz\n",
        "    # Remove the compressed file\n",
        "    !rm faster_rcnn_resnet101_v1_640x640_coco17_tpu-8.tar.gz"
      ],
      "metadata": {
        "id": "hUDJAImZ9bi3"
      },
      "execution_count": 4,
      "outputs": []
    },
    {
      "cell_type": "markdown",
      "source": [
        "##Generate label map"
      ],
      "metadata": {
        "id": "bGuLUrg5KW7E"
      }
    },
    {
      "cell_type": "code",
      "source": [
        "labels = [\n",
        "    \"Indian Robinrotation\",\n",
        "    \"Oriental Magpie Robinrotation\",\n",
        "    \"Alexandrine Parakeetrotation\",\n",
        "    \"Asian Koelrotation\",\n",
        "    \"Indian Paradise-Flycatcherrotation\",\n",
        "    \"Laughing Doverotation\",\n",
        "    \"Indian Spot-billed Duckrotation\",\n",
        "    \"Asian Wooly-necked storkrotation\",\n",
        "    \"Bulbulrotation\",\n",
        "    \"Barn owlrotation\",\n",
        "    \"Woodpeakerrotation\",\n",
        "    \"Yellow breasted greenfinchrotation\",\n",
        "    \"Red Bearded Bea Eaterrotation\",\n",
        "    \"Wrenrotation\",\n",
        "    \"Black Kiterotation\",\n",
        "    \"Brahminy Kiterotation\"\n",
        "]\n",
        "\n",
        "with open('label_map.pbtxt', 'w') as f:\n",
        "    for i, label in enumerate(labels, 1):\n",
        "        name = label.lower().replace(' ', '_')\n",
        "        f.write('item {\\n')\n",
        "        f.write('\\tname: \"{}\"\\n'.format(name))\n",
        "        f.write('\\tid: {}\\n'.format(i))\n",
        "        f.write('\\tdisplay_name: \"{}\"\\n'.format(label))\n",
        "        f.write('}\\n')"
      ],
      "metadata": {
        "id": "1ishDirjKaZi"
      },
      "execution_count": 12,
      "outputs": []
    },
    {
      "cell_type": "markdown",
      "source": [
        "### Convert XML annotations to CSV file"
      ],
      "metadata": {
        "id": "-hhZwF0m7TmN"
      }
    },
    {
      "cell_type": "code",
      "source": [
        "!rm xml_to_csv.py\n",
        "%pwd\n",
        "#Download the latest version from github\n",
        "!wget https://raw.githubusercontent.com/ayoubbensakhria/ObjectDetectionFRCNN/master/faster_rcnn_resnet101/xml_to_csv.py"
      ],
      "metadata": {
        "colab": {
          "base_uri": "https://localhost:8080/"
        },
        "id": "WEQ0xklC7X5i",
        "outputId": "ba4892e8-ba5d-4be0-dd3b-ef1bef1ae496"
      },
      "execution_count": 14,
      "outputs": [
        {
          "output_type": "stream",
          "name": "stdout",
          "text": [
            "rm: cannot remove 'xml_to_csv.py': No such file or directory\n",
            "--2024-04-07 23:51:35--  https://raw.githubusercontent.com/ayoubbensakhria/ObjectDetectionFRCNN/master/faster_rcnn_resnet101/xml_to_csv.py\n",
            "Resolving raw.githubusercontent.com (raw.githubusercontent.com)... 185.199.108.133, 185.199.109.133, 185.199.110.133, ...\n",
            "Connecting to raw.githubusercontent.com (raw.githubusercontent.com)|185.199.108.133|:443... connected.\n",
            "HTTP request sent, awaiting response... 200 OK\n",
            "Length: 1291 (1.3K) [text/plain]\n",
            "Saving to: ‘xml_to_csv.py’\n",
            "\n",
            "xml_to_csv.py       100%[===================>]   1.26K  --.-KB/s    in 0s      \n",
            "\n",
            "2024-04-07 23:51:35 (64.2 MB/s) - ‘xml_to_csv.py’ saved [1291/1291]\n",
            "\n"
          ]
        }
      ]
    },
    {
      "cell_type": "code",
      "source": [
        "#train labels csv\n",
        "!python xml_to_csv.py --xml_folder $current_dir/birdsod/train --output_csv $current_dir/birdsod/train/train_labels.csv"
      ],
      "metadata": {
        "id": "eOrLIjZU74u6"
      },
      "execution_count": 19,
      "outputs": []
    },
    {
      "cell_type": "code",
      "source": [
        "#test labels csv\n",
        "!python xml_to_csv.py --xml_folder $current_dir/birdsod/test --output_csv $current_dir/birdsod/test/test_labels.csv"
      ],
      "metadata": {
        "id": "Kooh__mq8uzc"
      },
      "execution_count": 21,
      "outputs": []
    },
    {
      "cell_type": "markdown",
      "source": [
        "##Convert csv to TFrecords"
      ],
      "metadata": {
        "id": "wtgu9ChzBI7s"
      }
    },
    {
      "cell_type": "code",
      "source": [
        "#Get the latest version , remove the older\n",
        "!rm generate_tfrecord.py\n",
        "#Download the latest version from github\n",
        "!wget https://raw.githubusercontent.com/ayoubbensakhria/ObjectDetectionFRCNN/master/faster_rcnn_resnet101/generate_tfrecord.py"
      ],
      "metadata": {
        "colab": {
          "base_uri": "https://localhost:8080/"
        },
        "id": "a80Wa4_IBXAz",
        "outputId": "7f4f53e2-626a-4e30-dbb3-48c1dce73bde"
      },
      "execution_count": 10,
      "outputs": [
        {
          "output_type": "stream",
          "name": "stdout",
          "text": [
            "rm: cannot remove 'generate_tfrecord.py': No such file or directory\n",
            "--2024-04-08 00:30:24--  https://raw.githubusercontent.com/ayoubbensakhria/ObjectDetectionFRCNN/master/faster_rcnn_resnet101/generate_tfrecord.py\n",
            "Resolving raw.githubusercontent.com (raw.githubusercontent.com)... 185.199.108.133, 185.199.109.133, 185.199.110.133, ...\n",
            "Connecting to raw.githubusercontent.com (raw.githubusercontent.com)|185.199.108.133|:443... connected.\n",
            "HTTP request sent, awaiting response... 200 OK\n",
            "Length: 4117 (4.0K) [text/plain]\n",
            "Saving to: ‘generate_tfrecord.py’\n",
            "\n",
            "generate_tfrecord.p 100%[===================>]   4.02K  --.-KB/s    in 0.002s  \n",
            "\n",
            "2024-04-08 00:30:25 (2.07 MB/s) - ‘generate_tfrecord.py’ saved [4117/4117]\n",
            "\n"
          ]
        }
      ]
    },
    {
      "cell_type": "code",
      "source": [
        "!python generate_tfrecord.py \\\n",
        "  --csv_input=/content/gdrive/MyDrive/birdsod/train/train_labels.csv \\\n",
        "  --image_dir=/content/gdrive/MyDrive/birdsod/train\\\n",
        "  --output_path=/content/gdrive/MyDrive/birdsod/train/train.record"
      ],
      "metadata": {
        "colab": {
          "base_uri": "https://localhost:8080/"
        },
        "id": "8XzJYdPzBquk",
        "outputId": "e05790dc-4086-411e-da4d-c327526592ca"
      },
      "execution_count": 13,
      "outputs": [
        {
          "output_type": "stream",
          "name": "stdout",
          "text": [
            "2024-04-08 00:49:27.924204: W tensorflow/compiler/tf2tensorrt/utils/py_utils.cc:38] TF-TRT Warning: Could not find TensorRT\n",
            "Successfully created the TFRecords: /content/gdrive/MyDrive/birdsod/train/train.record\n"
          ]
        }
      ]
    },
    {
      "cell_type": "code",
      "source": [
        "!python generate_tfrecord.py \\\n",
        "  --csv_input=/content/gdrive/MyDrive/birdsod/test/test_labels.csv \\\n",
        "  --image_dir=/content/gdrive/MyDrive/birdsod/test \\\n",
        "  --output_path=/content/gdrive/MyDrive/birdsod/test/test.record"
      ],
      "metadata": {
        "colab": {
          "base_uri": "https://localhost:8080/"
        },
        "id": "URpXkzomDku8",
        "outputId": "75bd4ece-8115-4b5e-c089-099992d4bc0d"
      },
      "execution_count": 14,
      "outputs": [
        {
          "output_type": "stream",
          "name": "stdout",
          "text": [
            "2024-04-08 00:51:09.531669: W tensorflow/compiler/tf2tensorrt/utils/py_utils.cc:38] TF-TRT Warning: Could not find TensorRT\n",
            "Successfully created the TFRecords: /content/gdrive/MyDrive/birdsod/test/test.record\n"
          ]
        }
      ]
    },
    {
      "cell_type": "code",
      "source": [
        "current_dir"
      ],
      "metadata": {
        "colab": {
          "base_uri": "https://localhost:8080/",
          "height": 35
        },
        "id": "jTgoFWAZHJHo",
        "outputId": "50336b72-615e-46b4-a5a7-26416b523c93"
      },
      "execution_count": 17,
      "outputs": [
        {
          "output_type": "execute_result",
          "data": {
            "text/plain": [
              "'/content/gdrive/MyDrive'"
            ],
            "application/vnd.google.colaboratory.intrinsic+json": {
              "type": "string"
            }
          },
          "metadata": {},
          "execution_count": 17
        }
      ]
    },
    {
      "cell_type": "code",
      "source": [
        "#train test record path\n",
        "train_record_path = os.path.join(current_dir,'birdsod','train','train.record')\n",
        "test_record_path = os.path.join(current_dir,'birdsod','test','test.record')\n",
        "label_map_path = '/content/gdrive/MyDrive/models/research/label_map.pbtxt'"
      ],
      "metadata": {
        "id": "j_F_rlRiN2YE"
      },
      "execution_count": 18,
      "outputs": []
    },
    {
      "cell_type": "markdown",
      "source": [
        "####Config files, checkpoints and hyperparameter"
      ],
      "metadata": {
        "id": "hT1R03wmOrhh"
      }
    },
    {
      "cell_type": "code",
      "source": [
        "#Load the last checkpoint if it exists\n",
        "fine_tune_checkpoint_fastercnn = 'faster_rcnn_resnet101_v1_640x640_coco17_tpu-8/checkpoint/ckpt-0'\n",
        "print('Checkpoint Dir for FasterRCNN:', fine_tune_checkpoint_fastercnn)"
      ],
      "metadata": {
        "colab": {
          "base_uri": "https://localhost:8080/"
        },
        "id": "z9mxtk-UOu4a",
        "outputId": "b6b77b2c-0afc-4083-91ea-d99a2881617e"
      },
      "execution_count": 19,
      "outputs": [
        {
          "output_type": "stream",
          "name": "stdout",
          "text": [
            "Checkpoint Dir for FasterRCNN: faster_rcnn_resnet101_v1_640x640_coco17_tpu-8/checkpoint/ckpt-0\n"
          ]
        }
      ]
    },
    {
      "cell_type": "code",
      "source": [
        "#Hyperparameters\n",
        "if os.path.isfile('pipeline.config'):\n",
        "  !rm 'pipeline.config'\n",
        "\n",
        "#Download the pipeline\n",
        "!wget https://raw.githubusercontent.com/ayoubbensakhria/ObjectDetectionFRCNN/master/faster_rcnn_resnet101/pipeline.config\n",
        "\n",
        "#set config file variables\n",
        "base_config_path_fasterrcnn= 'pipeline.config'"
      ],
      "metadata": {
        "colab": {
          "base_uri": "https://localhost:8080/"
        },
        "id": "JU9SdSe9PzV3",
        "outputId": "b5340cc8-8e10-40f1-9394-83d43fbeb553"
      },
      "execution_count": 20,
      "outputs": [
        {
          "output_type": "stream",
          "name": "stdout",
          "text": [
            "--2024-04-08 01:22:42--  https://raw.githubusercontent.com/ayoubbensakhria/ObjectDetectionFRCNN/master/faster_rcnn_resnet101/pipeline.config\n",
            "Resolving raw.githubusercontent.com (raw.githubusercontent.com)... 185.199.108.133, 185.199.109.133, 185.199.110.133, ...\n",
            "Connecting to raw.githubusercontent.com (raw.githubusercontent.com)|185.199.108.133|:443... connected.\n",
            "HTTP request sent, awaiting response... 200 OK\n",
            "Length: 3834 (3.7K) [text/plain]\n",
            "Saving to: ‘pipeline.config’\n",
            "\n",
            "pipeline.config     100%[===================>]   3.74K  --.-KB/s    in 0.003s  \n",
            "\n",
            "2024-04-08 01:22:42 (1.16 MB/s) - ‘pipeline.config’ saved [3834/3834]\n",
            "\n"
          ]
        }
      ]
    },
    {
      "cell_type": "markdown",
      "source": [
        "###Hyperparameters\n"
      ],
      "metadata": {
        "id": "Sc_1KDRWTbbP"
      }
    },
    {
      "cell_type": "code",
      "source": [
        "import re\n",
        "\n",
        "def edit_config(model_name, base_config_path, fine_tune_checkpoint):\n",
        "    with open(base_config_path) as f:\n",
        "        config = f.read()\n",
        "    with open('{model}_config.config'.format(model=model_name), 'w') as f:\n",
        "        #set labelmap path\n",
        "        config = re.sub('label_map_path: \".*?\"',\n",
        "                        'label_map_path: \"{}\"'.format(label_map_path), config)\n",
        "\n",
        "        #set fine tune checkpoint path\n",
        "        config = re.sub('fine_tune_checkpoint: \".*?\"',\n",
        "                    'fine_tune_checkpoint: \"{}\"'.format(fine_tune_checkpoint), config)\n",
        "\n",
        "        #set train tf-record file path\n",
        "        config = re.sub('(input_path: \".*?)(PATH_TO_BE_CONFIGURED/train)(.*?\")',\n",
        "                     'input_path: \"{}\"'.format(train_record_path), config)\n",
        "\n",
        "        #set test tf-record file path\n",
        "        config = re.sub('(input_path: \".*?)(PATH_TO_BE_CONFIGURED/test)(.*?\")',\n",
        "                     'input_path: \"{}\"'.format(test_record_path), config)\n",
        "\n",
        "        #set number of classes\n",
        "        config = re.sub('num_classes: [0-9]+',\n",
        "                    'num_classes: {}'.format(4), config)\n",
        "\n",
        "        #set batch size\n",
        "        config = re.sub('batch_size: [0-9]+',\n",
        "                    'batch_size: {}'.format(BATCH_SIZE), config)\n",
        "\n",
        "        #set training steps\n",
        "        config = re.sub('num_steps: [0-9]+',\n",
        "                    'num_steps: {}'.format(NUM_STEPS), config)\n",
        "\n",
        "        #set up finetune checkpoint type to detection\n",
        "        config = re.sub('fine_tune_checkpoint_type: \"classification\"',\n",
        "                'fine_tune_checkpoint_type: \"{}\"'.format('detection'), config)\n",
        "        f.write(config)\n"
      ],
      "metadata": {
        "id": "F1C4VH6MTNZS"
      },
      "execution_count": 21,
      "outputs": []
    },
    {
      "cell_type": "code",
      "source": [
        "#Edit config of faster rcnn using the above function\n",
        "edit_config('fasterrcnn', base_config_path_fasterrcnn, fine_tune_checkpoint_fastercnn)\n",
        "\n",
        "#Clean up\n",
        "!rm 'pipeline.config'\n",
        "\n",
        "#print pipeline config\n",
        "%cat 'fasterrcnn_config.config'"
      ],
      "metadata": {
        "colab": {
          "base_uri": "https://localhost:8080/"
        },
        "id": "CCkOgsNfXJNo",
        "outputId": "a2158c9c-98d9-4c2f-aee4-1f86b2f02152"
      },
      "execution_count": 22,
      "outputs": [
        {
          "output_type": "stream",
          "name": "stdout",
          "text": [
            "# Faster R-CNN with Resnet-101 (v1)\n",
            "# Trained on COCO, initialized from Imagenet classification checkpoint\n",
            "\n",
            "# This config is TPU compatible.\n",
            "\n",
            "model {\n",
            "  faster_rcnn {\n",
            "    num_classes: 4\n",
            "    image_resizer {\n",
            "      fixed_shape_resizer {\n",
            "        width: 640\n",
            "        height: 640\n",
            "      }\n",
            "    }\n",
            "    feature_extractor {\n",
            "      type: 'faster_rcnn_resnet101_keras'\n",
            "      batch_norm_trainable: true\n",
            "    }\n",
            "    first_stage_anchor_generator {\n",
            "      grid_anchor_generator {\n",
            "        scales: [0.25, 0.5, 1.0, 2.0]\n",
            "        aspect_ratios: [0.5, 1.0, 2.0]\n",
            "        height_stride: 16\n",
            "        width_stride: 16\n",
            "      }\n",
            "    }\n",
            "    first_stage_box_predictor_conv_hyperparams {\n",
            "      op: CONV\n",
            "      regularizer {\n",
            "        l2_regularizer {\n",
            "          weight: 0.0\n",
            "        }\n",
            "      }\n",
            "      initializer {\n",
            "        truncated_normal_initializer {\n",
            "          stddev: 0.01\n",
            "        }\n",
            "      }\n",
            "    }\n",
            "    first_stage_nms_score_threshold: 0.0\n",
            "    first_stage_nms_iou_threshold: 0.7\n",
            "    first_stage_max_proposals: 300\n",
            "    first_stage_localization_loss_weight: 2.0\n",
            "    first_stage_objectness_loss_weight: 1.0\n",
            "    initial_crop_size: 14\n",
            "    maxpool_kernel_size: 2\n",
            "    maxpool_stride: 2\n",
            "    second_stage_box_predictor {\n",
            "      mask_rcnn_box_predictor {\n",
            "        use_dropout: false\n",
            "        dropout_keep_probability: 1.0\n",
            "        fc_hyperparams {\n",
            "          op: FC\n",
            "          regularizer {\n",
            "            l2_regularizer {\n",
            "              weight: 0.0\n",
            "            }\n",
            "          }\n",
            "          initializer {\n",
            "            variance_scaling_initializer {\n",
            "              factor: 1.0\n",
            "              uniform: true\n",
            "              mode: FAN_AVG\n",
            "            }\n",
            "          }\n",
            "        }\n",
            "        share_box_across_classes: true\n",
            "      }\n",
            "    }\n",
            "    second_stage_post_processing {\n",
            "      batch_non_max_suppression {\n",
            "        score_threshold: 0.0\n",
            "        iou_threshold: 0.6\n",
            "        max_detections_per_class: 100\n",
            "        max_total_detections: 300\n",
            "      }\n",
            "      score_converter: SOFTMAX\n",
            "    }\n",
            "    second_stage_localization_loss_weight: 2.0\n",
            "    second_stage_classification_loss_weight: 1.0\n",
            "    use_static_shapes: true\n",
            "    use_matmul_crop_and_resize: true\n",
            "    clip_anchors_to_image: true\n",
            "    use_static_balanced_label_sampler: true\n",
            "    use_matmul_gather_in_matcher: true\n",
            "  }\n",
            "}\n",
            "\n",
            "train_config: {\n",
            "  batch_size: 1\n",
            "  sync_replicas: true\n",
            "  startup_delay_steps: 0\n",
            "  replicas_to_aggregate: 8\n",
            "  num_steps: 2100\n",
            "  optimizer {\n",
            "    momentum_optimizer: {\n",
            "      learning_rate: {\n",
            "        cosine_decay_learning_rate {\n",
            "          learning_rate_base: .0004\n",
            "          total_steps: 100000\n",
            "          warmup_learning_rate: .00004\n",
            "          warmup_steps: 2000\n",
            "        }\n",
            "      }\n",
            "      momentum_optimizer_value: 0.9\n",
            "    }\n",
            "    use_moving_average: false\n",
            "  }\n",
            "  fine_tune_checkpoint_version: V2\n",
            "  fine_tune_checkpoint: \"faster_rcnn_resnet101_v1_640x640_coco17_tpu-8/checkpoint/ckpt-0\"\n",
            "  fine_tune_checkpoint_type: \"detection\"\n",
            "  data_augmentation_options {\n",
            "    random_horizontal_flip {\n",
            "    }\n",
            "  }\n",
            "\n",
            "  data_augmentation_options {\n",
            "    random_adjust_hue {\n",
            "    }\n",
            "  }\n",
            "\n",
            "  data_augmentation_options {\n",
            "    random_adjust_contrast {\n",
            "    }\n",
            "  }\n",
            "\n",
            "  data_augmentation_options {\n",
            "    random_adjust_saturation {\n",
            "    }\n",
            "  }\n",
            "\n",
            "  data_augmentation_options {\n",
            "     random_square_crop_by_scale {\n",
            "      scale_min: 0.6\n",
            "      scale_max: 1.3\n",
            "    }\n",
            "  }\n",
            "  max_number_of_boxes: 100\n",
            "  unpad_groundtruth_tensors: false\n",
            "  use_bfloat16: false  # works only on TPUs\n",
            "}\n",
            "\n",
            "train_input_reader: {\n",
            "  label_map_path: \"/content/gdrive/MyDrive/models/research/label_map.pbtxt\"\n",
            "  tf_record_input_reader {\n",
            "    input_path: \"/content/gdrive/MyDrive/birdsod/train/train.record\"\n",
            "  }\n",
            "}\n",
            "\n",
            "eval_config: {\n",
            "  metrics_set: \"coco_detection_metrics\"\n",
            "  use_moving_averages: false\n",
            "  batch_size: 1;\n",
            "}\n",
            "\n",
            "eval_input_reader: {\n",
            "  label_map_path: \"/content/gdrive/MyDrive/models/research/label_map.pbtxt\"\n",
            "  shuffle: false\n",
            "  num_epochs: 1\n",
            "  tf_record_input_reader {\n",
            "    input_path: \"PATH_TO_BE_CONFIGURED/val2017-?????-of-00032.tfrecord\"\n",
            "  }\n",
            "}"
          ]
        }
      ]
    },
    {
      "cell_type": "code",
      "source": [],
      "metadata": {
        "id": "vrqKrxT2YAqs"
      },
      "execution_count": null,
      "outputs": []
    }
  ]
}