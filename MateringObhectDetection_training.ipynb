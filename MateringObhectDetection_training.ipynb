{
  "nbformat": 4,
  "nbformat_minor": 0,
  "metadata": {
    "colab": {
      "provenance": [],
      "gpuType": "T4",
      "authorship_tag": "ABX9TyM47o/h9vciRdU3L3m1JB+w",
      "include_colab_link": true
    },
    "kernelspec": {
      "name": "python3",
      "display_name": "Python 3"
    },
    "language_info": {
      "name": "python"
    },
    "accelerator": "GPU"
  },
  "cells": [
    {
      "cell_type": "markdown",
      "metadata": {
        "id": "view-in-github",
        "colab_type": "text"
      },
      "source": [
        "<a href=\"https://colab.research.google.com/github/Samin-Sadaf7/MasteringObjectDetection/blob/main/MateringObhectDetection_training.ipynb\" target=\"_parent\"><img src=\"https://colab.research.google.com/assets/colab-badge.svg\" alt=\"Open In Colab\"/></a>"
      ]
    },
    {
      "cell_type": "markdown",
      "source": [
        "#Bird Mulitple object Detection using FasterRCNN and Tensorflow Object Detection API\n",
        "\n",
        "Part -2 : training"
      ],
      "metadata": {
        "id": "bkX2t4mG8Iab"
      }
    },
    {
      "cell_type": "markdown",
      "source": [
        "### Download model from tensorflow 2 model garden"
      ],
      "metadata": {
        "id": "Tnmi-9TX8hwa"
      }
    },
    {
      "cell_type": "code",
      "source": [
        "import os\n",
        "import re #regular expression\n",
        "import tensorflow as tf\n",
        "from google.colab import drive\n",
        "#Mounting to Google Drive\n",
        "drive.mount('/content/gdrive', force_remount=True)\n",
        "#Set current directory to MyDrive , put the downloaded files there\n",
        "%cd gdrive/MyDrive/\n",
        "# Get current working dir\n",
        "current_dir= os.getcwd()\n",
        "print(\"Root dir:\", current_dir)"
      ],
      "metadata": {
        "colab": {
          "base_uri": "https://localhost:8080/"
        },
        "id": "OIYHZgR28qD1",
        "outputId": "93195ae2-f625-4c4e-d9ad-22eea2b8f8e3"
      },
      "execution_count": 2,
      "outputs": [
        {
          "output_type": "stream",
          "name": "stdout",
          "text": [
            "Mounted at /content/gdrive\n",
            "/content/gdrive/MyDrive\n",
            "Root dir: /content/gdrive/MyDrive\n"
          ]
        }
      ]
    },
    {
      "cell_type": "code",
      "source": [
        "#Define some constants\n",
        "RANDOM_SEED = 99\n",
        "BATCH_SIZE = 1\n",
        "NUM_STEPS = 2100\n",
        "NUM_EVAL_STEPS = 1000"
      ],
      "metadata": {
        "id": "0xhhSvDm84ud"
      },
      "execution_count": 3,
      "outputs": []
    },
    {
      "cell_type": "code",
      "source": [
        "# Check if the directory exists\n",
        "if not os.path.isdir('faster_rcnn_resnet101_v1_640x640_coco17_tpu-8'):\n",
        "    # Download the model\n",
        "    !wget http://download.tensorflow.org/models/object_detection/tf2/20200711/faster_rcnn_resnet101_v1_640x640_coco17_tpu-8.tar.gz\n",
        "    # Extract the compressed file\n",
        "    !tar -xf faster_rcnn_resnet101_v1_640x640_coco17_tpu-8.tar.gz\n",
        "    # Remove the compressed file\n",
        "    !rm faster_rcnn_resnet101_v1_640x640_coco17_tpu-8.tar.gz"
      ],
      "metadata": {
        "id": "hUDJAImZ9bi3"
      },
      "execution_count": 4,
      "outputs": []
    },
    {
      "cell_type": "markdown",
      "source": [
        "##Generate label map"
      ],
      "metadata": {
        "id": "bGuLUrg5KW7E"
      }
    },
    {
      "cell_type": "code",
      "source": [
        "labels = [\n",
        "    \"Indian Robinrotation\",\n",
        "    \"Oriental Magpie Robinrotation\",\n",
        "    \"Alexandrine Parakeetrotation\",\n",
        "    \"Asian Koelrotation\",\n",
        "    \"Indian Paradise-Flycatcherrotation\",\n",
        "    \"Laughing Doverotation\",\n",
        "    \"Indian Spot-billed Duckrotation\",\n",
        "    \"Asian Wooly-necked storkrotation\",\n",
        "    \"Bulbulrotation\",\n",
        "    \"Barn owlrotation\",\n",
        "    \"Woodpeakerrotation\",\n",
        "    \"Yellow breasted greenfinchrotation\",\n",
        "    \"Red Bearded Bea Eaterrotation\",\n",
        "    \"Wrenrotation\",\n",
        "    \"Black Kiterotation\",\n",
        "    \"Brahminy Kiterotation\"\n",
        "]\n",
        "\n",
        "with open('label_map.pbtxt', 'w') as f:\n",
        "    for i, label in enumerate(labels, 1):\n",
        "        name = label.lower().replace(' ', '_')\n",
        "        f.write('item {\\n')\n",
        "        f.write('\\tname: \"{}\"\\n'.format(name))\n",
        "        f.write('\\tid: {}\\n'.format(i))\n",
        "        f.write('\\tdisplay_name: \"{}\"\\n'.format(label))\n",
        "        f.write('}\\n')"
      ],
      "metadata": {
        "id": "1ishDirjKaZi"
      },
      "execution_count": 12,
      "outputs": []
    },
    {
      "cell_type": "markdown",
      "source": [
        "### Convert XML annotations to CSV file"
      ],
      "metadata": {
        "id": "-hhZwF0m7TmN"
      }
    },
    {
      "cell_type": "code",
      "source": [
        "!rm xml_to_csv.py\n",
        "%pwd\n",
        "#Download the latest version from github\n",
        "!wget https://raw.githubusercontent.com/ayoubbensakhria/ObjectDetectionFRCNN/master/faster_rcnn_resnet101/xml_to_csv.py"
      ],
      "metadata": {
        "colab": {
          "base_uri": "https://localhost:8080/"
        },
        "id": "WEQ0xklC7X5i",
        "outputId": "ba4892e8-ba5d-4be0-dd3b-ef1bef1ae496"
      },
      "execution_count": 14,
      "outputs": [
        {
          "output_type": "stream",
          "name": "stdout",
          "text": [
            "rm: cannot remove 'xml_to_csv.py': No such file or directory\n",
            "--2024-04-07 23:51:35--  https://raw.githubusercontent.com/ayoubbensakhria/ObjectDetectionFRCNN/master/faster_rcnn_resnet101/xml_to_csv.py\n",
            "Resolving raw.githubusercontent.com (raw.githubusercontent.com)... 185.199.108.133, 185.199.109.133, 185.199.110.133, ...\n",
            "Connecting to raw.githubusercontent.com (raw.githubusercontent.com)|185.199.108.133|:443... connected.\n",
            "HTTP request sent, awaiting response... 200 OK\n",
            "Length: 1291 (1.3K) [text/plain]\n",
            "Saving to: ‘xml_to_csv.py’\n",
            "\n",
            "xml_to_csv.py       100%[===================>]   1.26K  --.-KB/s    in 0s      \n",
            "\n",
            "2024-04-07 23:51:35 (64.2 MB/s) - ‘xml_to_csv.py’ saved [1291/1291]\n",
            "\n"
          ]
        }
      ]
    },
    {
      "cell_type": "code",
      "source": [
        "#train labels csv\n",
        "!python xml_to_csv.py --xml_folder $current_dir/birdsod/train --output_csv $current_dir/birdsod/train/train_labels.csv"
      ],
      "metadata": {
        "id": "eOrLIjZU74u6"
      },
      "execution_count": 19,
      "outputs": []
    },
    {
      "cell_type": "code",
      "source": [
        "#test labels csv\n",
        "!python xml_to_csv.py --xml_folder $current_dir/birdsod/test --output_csv $current_dir/birdsod/test/test_labels.csv"
      ],
      "metadata": {
        "id": "Kooh__mq8uzc"
      },
      "execution_count": 21,
      "outputs": []
    },
    {
      "cell_type": "markdown",
      "source": [
        "##Convert csv to TFrecords"
      ],
      "metadata": {
        "id": "wtgu9ChzBI7s"
      }
    },
    {
      "cell_type": "code",
      "source": [
        "#Get the latest version , remove the older\n",
        "!rm generate_tfrecord.py\n",
        "#Download the latest version from github\n",
        "!wget https://raw.githubusercontent.com/ayoubbensakhria/ObjectDetectionFRCNN/master/faster_rcnn_resnet101/generate_tfrecord.py"
      ],
      "metadata": {
        "colab": {
          "base_uri": "https://localhost:8080/"
        },
        "id": "a80Wa4_IBXAz",
        "outputId": "7f4f53e2-626a-4e30-dbb3-48c1dce73bde"
      },
      "execution_count": 10,
      "outputs": [
        {
          "output_type": "stream",
          "name": "stdout",
          "text": [
            "rm: cannot remove 'generate_tfrecord.py': No such file or directory\n",
            "--2024-04-08 00:30:24--  https://raw.githubusercontent.com/ayoubbensakhria/ObjectDetectionFRCNN/master/faster_rcnn_resnet101/generate_tfrecord.py\n",
            "Resolving raw.githubusercontent.com (raw.githubusercontent.com)... 185.199.108.133, 185.199.109.133, 185.199.110.133, ...\n",
            "Connecting to raw.githubusercontent.com (raw.githubusercontent.com)|185.199.108.133|:443... connected.\n",
            "HTTP request sent, awaiting response... 200 OK\n",
            "Length: 4117 (4.0K) [text/plain]\n",
            "Saving to: ‘generate_tfrecord.py’\n",
            "\n",
            "generate_tfrecord.p 100%[===================>]   4.02K  --.-KB/s    in 0.002s  \n",
            "\n",
            "2024-04-08 00:30:25 (2.07 MB/s) - ‘generate_tfrecord.py’ saved [4117/4117]\n",
            "\n"
          ]
        }
      ]
    },
    {
      "cell_type": "code",
      "source": [
        "!python generate_tfrecord.py \\\n",
        "  --csv_input=/content/gdrive/MyDrive/birdsod/train/train_labels.csv \\\n",
        "  --image_dir=/content/gdrive/MyDrive/birdsod/train\\\n",
        "  --output_path=/content/gdrive/MyDrive/birdsod/train/train.record"
      ],
      "metadata": {
        "colab": {
          "base_uri": "https://localhost:8080/"
        },
        "id": "8XzJYdPzBquk",
        "outputId": "e05790dc-4086-411e-da4d-c327526592ca"
      },
      "execution_count": 13,
      "outputs": [
        {
          "output_type": "stream",
          "name": "stdout",
          "text": [
            "2024-04-08 00:49:27.924204: W tensorflow/compiler/tf2tensorrt/utils/py_utils.cc:38] TF-TRT Warning: Could not find TensorRT\n",
            "Successfully created the TFRecords: /content/gdrive/MyDrive/birdsod/train/train.record\n"
          ]
        }
      ]
    },
    {
      "cell_type": "code",
      "source": [
        "!python generate_tfrecord.py \\\n",
        "  --csv_input=/content/gdrive/MyDrive/birdsod/test/test_labels.csv \\\n",
        "  --image_dir=/content/gdrive/MyDrive/birdsod/test \\\n",
        "  --output_path=/content/gdrive/MyDrive/birdsod/test/test.record"
      ],
      "metadata": {
        "colab": {
          "base_uri": "https://localhost:8080/"
        },
        "id": "URpXkzomDku8",
        "outputId": "75bd4ece-8115-4b5e-c089-099992d4bc0d"
      },
      "execution_count": 14,
      "outputs": [
        {
          "output_type": "stream",
          "name": "stdout",
          "text": [
            "2024-04-08 00:51:09.531669: W tensorflow/compiler/tf2tensorrt/utils/py_utils.cc:38] TF-TRT Warning: Could not find TensorRT\n",
            "Successfully created the TFRecords: /content/gdrive/MyDrive/birdsod/test/test.record\n"
          ]
        }
      ]
    },
    {
      "cell_type": "code",
      "source": [],
      "metadata": {
        "id": "jTgoFWAZHJHo"
      },
      "execution_count": null,
      "outputs": []
    }
  ]
}