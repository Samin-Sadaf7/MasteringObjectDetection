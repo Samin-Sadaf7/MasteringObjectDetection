{
  "nbformat": 4,
  "nbformat_minor": 0,
  "metadata": {
    "colab": {
      "provenance": [],
      "gpuType": "T4",
      "authorship_tag": "ABX9TyPn6/RI20nRf+He6C2rI7u8",
      "include_colab_link": true
    },
    "kernelspec": {
      "name": "python3",
      "display_name": "Python 3"
    },
    "language_info": {
      "name": "python"
    },
    "accelerator": "GPU"
  },
  "cells": [
    {
      "cell_type": "markdown",
      "metadata": {
        "id": "view-in-github",
        "colab_type": "text"
      },
      "source": [
        "<a href=\"https://colab.research.google.com/github/Samin-Sadaf7/MasteringObjectDetection/blob/main/MateringObhectDetection_training.ipynb\" target=\"_parent\"><img src=\"https://colab.research.google.com/assets/colab-badge.svg\" alt=\"Open In Colab\"/></a>"
      ]
    },
    {
      "cell_type": "markdown",
      "source": [
        "#Bird Mulitple object Detection using FasterRCNN and Tensorflow Object Detection API\n",
        "\n",
        "Part -2 : training"
      ],
      "metadata": {
        "id": "bkX2t4mG8Iab"
      }
    },
    {
      "cell_type": "markdown",
      "source": [
        "### Download model from tensorflow 2 model garden"
      ],
      "metadata": {
        "id": "Tnmi-9TX8hwa"
      }
    },
    {
      "cell_type": "code",
      "source": [
        "import os\n",
        "import re #regular expression\n",
        "import tensorflow as tf\n",
        "from google.colab import drive\n",
        "#Mounting to Google Drive\n",
        "drive.mount('/content/gdrive', force_remount=True)\n",
        "#Set current directory to MyDrive , put the downloaded files there\n",
        "%cd gdrive/MyDrive/\n",
        "# Get current working dir\n",
        "current_dir= os.getcwd()\n",
        "print(\"Root dir:\", current_dir)"
      ],
      "metadata": {
        "colab": {
          "base_uri": "https://localhost:8080/"
        },
        "id": "OIYHZgR28qD1",
        "outputId": "827cd2e4-0dbe-443e-fafb-4e8ceb73696b"
      },
      "execution_count": 1,
      "outputs": [
        {
          "output_type": "stream",
          "name": "stdout",
          "text": [
            "Mounted at /content/gdrive\n",
            "/content/gdrive/MyDrive\n",
            "Root dir: /content/gdrive/MyDrive\n"
          ]
        }
      ]
    },
    {
      "cell_type": "code",
      "source": [
        "#Define some constants\n",
        "RANDOM_SEED = 99\n",
        "BATCH_SIZE = 1\n",
        "NUM_STEPS = 2100\n",
        "NUM_EVAL_STEPS = 1000"
      ],
      "metadata": {
        "id": "0xhhSvDm84ud"
      },
      "execution_count": 2,
      "outputs": []
    },
    {
      "cell_type": "code",
      "source": [
        "# Check if the directory exists\n",
        "if not os.path.isdir('faster_rcnn_resnet101_v1-640x640-coco17_tpu-8'):\n",
        "    # Download the model\n",
        "    !wget http://download.tensorflow.org/models/object_detection/tf2/20200711/faster_rcnn_resnet101_v1_640x640_coco17_tpu-8.tar.gz\n",
        "    # Extract the compressed file\n",
        "    !tar -xf faster_rcnn_resnet101_v1_640x640_coco17_tpu-8.tar.gz\n",
        "    # Remove the compressed file\n",
        "    !rm faster_rcnn_resnet101_v1_640x640_coco17_tpu-8.tar.gz"
      ],
      "metadata": {
        "id": "hUDJAImZ9bi3",
        "colab": {
          "base_uri": "https://localhost:8080/"
        },
        "outputId": "dc9f8b7c-d7d2-410e-8e4c-347d4455b4d4"
      },
      "execution_count": 5,
      "outputs": [
        {
          "output_type": "stream",
          "name": "stdout",
          "text": [
            "--2024-04-07 10:10:13--  http://download.tensorflow.org/models/object_detection/tf2/20200711/faster_rcnn_resnet101_v1_640x640_coco17_tpu-8.tar.gz\n",
            "Resolving download.tensorflow.org (download.tensorflow.org)... 74.125.26.207, 172.217.203.207, 142.250.97.207, ...\n",
            "Connecting to download.tensorflow.org (download.tensorflow.org)|74.125.26.207|:80... connected.\n",
            "HTTP request sent, awaiting response... 200 OK\n",
            "Length: 353643040 (337M) [application/x-tar]\n",
            "Saving to: ‘faster_rcnn_resnet101_v1_640x640_coco17_tpu-8.tar.gz.1’\n",
            "\n",
            "faster_rcnn_resnet1 100%[===================>] 337.26M  51.7MB/s    in 6.1s    \n",
            "\n",
            "2024-04-07 10:10:19 (55.2 MB/s) - ‘faster_rcnn_resnet101_v1_640x640_coco17_tpu-8.tar.gz.1’ saved [353643040/353643040]\n",
            "\n"
          ]
        }
      ]
    },
    {
      "cell_type": "code",
      "source": [
        ""
      ],
      "metadata": {
        "id": "fcGmkPbAA8k1"
      },
      "execution_count": 6,
      "outputs": []
    },
    {
      "cell_type": "code",
      "source": [],
      "metadata": {
        "id": "ImYfGf2RC1vo"
      },
      "execution_count": null,
      "outputs": []
    }
  ]
}